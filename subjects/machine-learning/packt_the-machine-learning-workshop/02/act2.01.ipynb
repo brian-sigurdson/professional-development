{
 "cells": [
  {
   "cell_type": "code",
   "execution_count": 1,
   "metadata": {},
   "outputs": [],
   "source": [
    "import pandas as pd\n",
    "# import numpy as np\n",
    "import matplotlib.pyplot as plt"
   ]
  },
  {
   "cell_type": "code",
   "execution_count": 5,
   "metadata": {},
   "outputs": [
    {
     "data": {
      "text/plain": [
       "Channel             0\n",
       "Region              0\n",
       "Fresh               0\n",
       "Milk                0\n",
       "Grocery             0\n",
       "Frozen              0\n",
       "Detergents_Paper    0\n",
       "Delicassen          0\n",
       "dtype: int64"
      ]
     },
     "execution_count": 5,
     "metadata": {},
     "output_type": "execute_result"
    }
   ],
   "source": [
    "data = pd.read_csv('wholesale_customers_data.csv')\n",
    "data.shape\n",
    "data.isnull().sum()"
   ]
  },
  {
   "cell_type": "code",
   "execution_count": 27,
   "metadata": {},
   "outputs": [],
   "source": [
    "fresh_min_value = data['Fresh'].mean() - (3 * data['Fresh'].std())\n",
    "milk_min_value = data['Milk'].mean() - (3 * data['Milk'].std())\n",
    "grocery_min_value = data['Grocery'].mean() - (3 * data['Grocery'].std())\n",
    "frozen_min_value = data['Frozen'].mean() - (3 * data['Frozen'].std())\n",
    "detergents_Paper_min_value = data['Detergents_Paper'].mean() - (3 * data['Detergents_Paper'].std())\n",
    "delicassen_min_value = data['Delicassen'].mean() - (3 * data['Delicassen'].std())"
   ]
  },
  {
   "cell_type": "code",
   "execution_count": 28,
   "metadata": {},
   "outputs": [],
   "source": [
    "fresh_max_value = data['Fresh'].mean() + (3 * data['Fresh'].std())\n",
    "milk_max_value = data['Milk'].mean() + (3 * data['Milk'].std())\n",
    "grocery_max_value = data['Grocery'].mean() + (3 * data['Grocery'].std())\n",
    "frozen_max_value = data['Frozen'].mean() + (3 * data['Frozen'].std())\n",
    "detergents_Paper_max_value = data['Detergents_Paper'].mean() + (3 * data['Detergents_Paper'].std())\n",
    "delicassen_max_value = data['Delicassen'].mean() + (3 * data['Delicassen'].std())"
   ]
  }
 ],
 "metadata": {
  "kernelspec": {
   "display_name": ".venv",
   "language": "python",
   "name": "python3"
  },
  "language_info": {
   "codemirror_mode": {
    "name": "ipython",
    "version": 3
   },
   "file_extension": ".py",
   "mimetype": "text/x-python",
   "name": "python",
   "nbconvert_exporter": "python",
   "pygments_lexer": "ipython3",
   "version": "3.8.10"
  }
 },
 "nbformat": 4,
 "nbformat_minor": 2
}

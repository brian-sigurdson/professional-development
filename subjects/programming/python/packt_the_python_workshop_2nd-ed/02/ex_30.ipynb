{
 "cells": [
  {
   "cell_type": "code",
   "execution_count": 6,
   "metadata": {},
   "outputs": [
    {
     "name": "stdout",
     "output_type": "stream",
     "text": [
      "dict_values([150, 75, 300, 220])\n",
      "[150, 75, 300, 220]\n"
     ]
    }
   ],
   "source": [
    "album_sales = {\n",
    "    'barbara': 150,\n",
    "    'aretha': 75,\n",
    "    'madonna': 300,\n",
    "    'mariah': 220\n",
    "}\n",
    "print(album_sales.values())\n",
    "print(list(album_sales.values()))"
   ]
  },
  {
   "cell_type": "code",
   "execution_count": 7,
   "metadata": {},
   "outputs": [
    {
     "name": "stdout",
     "output_type": "stream",
     "text": [
      "['barbara', 'aretha', 'madonna', 'mariah']\n"
     ]
    }
   ],
   "source": [
    "print(list(album_sales.keys()))"
   ]
  },
  {
   "cell_type": "code",
   "execution_count": 8,
   "metadata": {},
   "outputs": [
    {
     "name": "stdout",
     "output_type": "stream",
     "text": [
      "('barbara', 150)\n",
      "('aretha', 75)\n",
      "('madonna', 300)\n",
      "('mariah', 220)\n"
     ]
    }
   ],
   "source": [
    "for item in album_sales.items():\n",
    "    print(item)"
   ]
  }
 ],
 "metadata": {
  "kernelspec": {
   "display_name": ".venv",
   "language": "python",
   "name": "python3"
  },
  "language_info": {
   "codemirror_mode": {
    "name": "ipython",
    "version": 3
   },
   "file_extension": ".py",
   "mimetype": "text/x-python",
   "name": "python",
   "nbconvert_exporter": "python",
   "pygments_lexer": "ipython3",
   "version": "3.8.10"
  }
 },
 "nbformat": 4,
 "nbformat_minor": 2
}

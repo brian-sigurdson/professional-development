{
 "cells": [
  {
   "cell_type": "code",
   "execution_count": 3,
   "metadata": {},
   "outputs": [],
   "source": [
    "movie = {\n",
    "    \"title\": \"The Godfather\",\n",
    "    \"director\": \"Francis Ford Coppola\",\n",
    "    'year': 1972,\n",
    "    'rating': 9.2\n",
    "}"
   ]
  },
  {
   "cell_type": "code",
   "execution_count": 5,
   "metadata": {},
   "outputs": [
    {
     "name": "stdout",
     "output_type": "stream",
     "text": [
      "1972\n"
     ]
    }
   ],
   "source": [
    "print(movie['year'])"
   ]
  },
  {
   "cell_type": "code",
   "execution_count": 7,
   "metadata": {},
   "outputs": [
    {
     "name": "stdout",
     "output_type": "stream",
     "text": [
      "9.275\n"
     ]
    }
   ],
   "source": [
    "movie['rating'] = (movie['rating'] + 9.3)/2\n",
    "print(movie['rating'])"
   ]
  },
  {
   "cell_type": "code",
   "execution_count": 8,
   "metadata": {},
   "outputs": [
    {
     "name": "stdout",
     "output_type": "stream",
     "text": [
      "{'title': 'The Godfather', 'director': 'Francis Ford Coppola', 'year': 1972, 'rating': 9.2, 'actors': ['marlon brando', 'al pachinl', 'james caan'], 'other_details': {'runtime': 173, 'language': 'English'}}\n"
     ]
    }
   ],
   "source": [
    "movie = {}\n",
    "movie['title'] = 'The Godfather'\n",
    "movie['director'] = 'Francis Ford Coppola' \n",
    "movie['year'] = 1972\n",
    "movie['rating'] = 9.2\n",
    "movie['actors'] = ['marlon brando', 'al pachinl', 'james caan']\n",
    "movie['other_details'] = {\n",
    "    'runtime': 173,\n",
    "    'language': 'English'\n",
    "}\n",
    "print(movie)"
   ]
  }
 ],
 "metadata": {
  "kernelspec": {
   "display_name": ".venv",
   "language": "python",
   "name": "python3"
  },
  "language_info": {
   "codemirror_mode": {
    "name": "ipython",
    "version": 3
   },
   "file_extension": ".py",
   "mimetype": "text/x-python",
   "name": "python",
   "nbconvert_exporter": "python",
   "pygments_lexer": "ipython3",
   "version": "3.8.10"
  }
 },
 "nbformat": 4,
 "nbformat_minor": 2
}

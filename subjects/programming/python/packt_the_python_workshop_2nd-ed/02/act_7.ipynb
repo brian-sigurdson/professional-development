{
 "cells": [
  {
   "cell_type": "code",
   "execution_count": 2,
   "metadata": {},
   "outputs": [
    {
     "name": "stdout",
     "output_type": "stream",
     "text": [
      "[{'name': 'John Mckee', 'age': 38, 'dept': 'sales'}, {'name': 'Lisa Crawford', 'age': 29, 'dept': 'marketing'}, {'name': 'Sujan Patel', 'age': 33, 'dept': 'HR'}]\n"
     ]
    }
   ],
   "source": [
    "john = {\n",
    "    'name': 'John Mckee',\n",
    "    'age': 38,\n",
    "    'dept': 'sales'\n",
    "}\n",
    "lisa = {\n",
    "    'name': 'Lisa Crawford',\n",
    "    'age': 29,\n",
    "    'dept': 'marketing'\n",
    "}\n",
    "sujan = {\n",
    "    'name': 'Sujan Patel',\n",
    "    'age': 33,\n",
    "    'dept': 'HR'\n",
    "}\n",
    "employees = [john, lisa, sujan]\n",
    "print(employees)"
   ]
  },
  {
   "cell_type": "code",
   "execution_count": 10,
   "metadata": {},
   "outputs": [
    {
     "name": "stdout",
     "output_type": "stream",
     "text": [
      "Name: Sujan Patel\n",
      "Age: 33\n",
      "Dept: HR\n"
     ]
    }
   ],
   "source": [
    "s = employees[-1]\n",
    "print(f\"Name: {s['name']}\")\n",
    "print(f\"Age: {s['age']}\")\n",
    "print(f\"Dept: {s['dept']}\")"
   ]
  }
 ],
 "metadata": {
  "kernelspec": {
   "display_name": ".venv",
   "language": "python",
   "name": "python3"
  },
  "language_info": {
   "codemirror_mode": {
    "name": "ipython",
    "version": 3
   },
   "file_extension": ".py",
   "mimetype": "text/x-python",
   "name": "python",
   "nbconvert_exporter": "python",
   "pygments_lexer": "ipython3",
   "version": "3.8.10"
  }
 },
 "nbformat": 4,
 "nbformat_minor": 2
}
